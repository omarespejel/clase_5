{
  "nbformat": 4,
  "nbformat_minor": 0,
  "metadata": {
    "colab": {
      "name": "Clase_6",
      "provenance": [],
      "collapsed_sections": []
    },
    "kernelspec": {
      "name": "python3",
      "display_name": "Python 3"
    },
    "accelerator": "GPU"
  },
  "cells": [
    {
      "cell_type": "code",
      "metadata": {
        "id": "PkX3348437E7",
        "colab_type": "code",
        "colab": {}
      },
      "source": [
        "%reload_ext autoreload\n",
        "%autoreload 2\n",
        "%matplotlib inline"
      ],
      "execution_count": 0,
      "outputs": []
    },
    {
      "cell_type": "code",
      "metadata": {
        "id": "y13H14MH3zXR",
        "colab_type": "code",
        "colab": {}
      },
      "source": [
        "from fastai.vision import *\n",
        "import torch"
      ],
      "execution_count": 0,
      "outputs": []
    },
    {
      "cell_type": "code",
      "metadata": {
        "id": "Lq-jkCcu3237",
        "colab_type": "code",
        "colab": {}
      },
      "source": [
        "path = untar_data(URLs.MNIST)"
      ],
      "execution_count": 0,
      "outputs": []
    },
    {
      "cell_type": "markdown",
      "metadata": {
        "id": "hCuGRRnELeIX",
        "colab_type": "text"
      },
      "source": [
        ""
      ]
    },
    {
      "cell_type": "code",
      "metadata": {
        "id": "30s03Puq4XoY",
        "colab_type": "code",
        "colab": {}
      },
      "source": [
        "images = ImageList.from_folder(path, convert_mode='L').split_by_folder(train='training', valid='testing').label_from_folder()"
      ],
      "execution_count": 0,
      "outputs": []
    },
    {
      "cell_type": "code",
      "metadata": {
        "id": "0B2OZFhN4Yk3",
        "colab_type": "code",
        "outputId": "34fcbdec-7d06-44e6-8cb9-a14567cf16c1",
        "colab": {
          "base_uri": "https://localhost:8080/",
          "height": 326
        }
      },
      "source": [
        "images"
      ],
      "execution_count": 5,
      "outputs": [
        {
          "output_type": "execute_result",
          "data": {
            "text/plain": [
              "LabelLists;\n",
              "\n",
              "Train: LabelList (60000 items)\n",
              "x: ImageList\n",
              "Image (1, 28, 28),Image (1, 28, 28),Image (1, 28, 28),Image (1, 28, 28),Image (1, 28, 28)\n",
              "y: CategoryList\n",
              "6,6,6,6,6\n",
              "Path: /root/.fastai/data/mnist_png;\n",
              "\n",
              "Valid: LabelList (10000 items)\n",
              "x: ImageList\n",
              "Image (1, 28, 28),Image (1, 28, 28),Image (1, 28, 28),Image (1, 28, 28),Image (1, 28, 28)\n",
              "y: CategoryList\n",
              "6,6,6,6,6\n",
              "Path: /root/.fastai/data/mnist_png;\n",
              "\n",
              "Test: None"
            ]
          },
          "metadata": {
            "tags": []
          },
          "execution_count": 5
        }
      ]
    },
    {
      "cell_type": "code",
      "metadata": {
        "id": "hk9Gx-y54WvW",
        "colab_type": "code",
        "colab": {}
      },
      "source": [
        "bs = 128\n",
        "data = images.databunch(bs=bs).normalize()"
      ],
      "execution_count": 0,
      "outputs": []
    },
    {
      "cell_type": "code",
      "metadata": {
        "id": "PZ97hQYl41Eg",
        "colab_type": "code",
        "outputId": "bc7487fb-4852-40c1-a3a1-dbb2c77b8593",
        "colab": {
          "base_uri": "https://localhost:8080/",
          "height": 326
        }
      },
      "source": [
        "data"
      ],
      "execution_count": 7,
      "outputs": [
        {
          "output_type": "execute_result",
          "data": {
            "text/plain": [
              "ImageDataBunch;\n",
              "\n",
              "Train: LabelList (60000 items)\n",
              "x: ImageList\n",
              "Image (1, 28, 28),Image (1, 28, 28),Image (1, 28, 28),Image (1, 28, 28),Image (1, 28, 28)\n",
              "y: CategoryList\n",
              "6,6,6,6,6\n",
              "Path: /root/.fastai/data/mnist_png;\n",
              "\n",
              "Valid: LabelList (10000 items)\n",
              "x: ImageList\n",
              "Image (1, 28, 28),Image (1, 28, 28),Image (1, 28, 28),Image (1, 28, 28),Image (1, 28, 28)\n",
              "y: CategoryList\n",
              "6,6,6,6,6\n",
              "Path: /root/.fastai/data/mnist_png;\n",
              "\n",
              "Test: None"
            ]
          },
          "metadata": {
            "tags": []
          },
          "execution_count": 7
        }
      ]
    },
    {
      "cell_type": "code",
      "metadata": {
        "id": "1rkpnUmS5LMM",
        "colab_type": "code",
        "outputId": "4461f7a3-e601-410f-a8e7-efd3289cd8c6",
        "colab": {
          "base_uri": "https://localhost:8080/",
          "height": 212
        }
      },
      "source": [
        "x,y = data.train_ds[0]\n",
        "x.show()\n",
        "print(y)"
      ],
      "execution_count": 8,
      "outputs": [
        {
          "output_type": "stream",
          "text": [
            "6\n"
          ],
          "name": "stdout"
        },
        {
          "output_type": "display_data",
          "data": {
            "image/png": "[encoded data removed]",
            "text/plain": [
              "<Figure size 216x216 with 1 Axes>"
            ]
          },
          "metadata": {
            "tags": []
          }
        }
      ]
    },
    {
      "cell_type": "code",
      "metadata": {
        "id": "Jg9IB0YzMYV7",
        "colab_type": "code",
        "colab": {
          "base_uri": "https://localhost:8080/",
          "height": 35
        },
        "outputId": "13a84174-c61c-4f94-e7ee-e3d1254ae4d6"
      },
      "source": [
        "xb,yb = data.one_batch()\n",
        "xb.shape,yb.shape"
      ],
      "execution_count": 18,
      "outputs": [
        {
          "output_type": "execute_result",
          "data": {
            "text/plain": [
              "(torch.Size([128, 1, 28, 28]), torch.Size([128]))"
            ]
          },
          "metadata": {
            "tags": []
          },
          "execution_count": 18
        }
      ]
    },
    {
      "cell_type": "markdown",
      "metadata": {
        "id": "H0wbbYWu5bqD",
        "colab_type": "text"
      },
      "source": [
        "## Our CNN"
      ]
    },
    {
      "cell_type": "code",
      "metadata": {
        "id": "UI93nr-n5ef_",
        "colab_type": "code",
        "colab": {}
      },
      "source": [
        "def conv3x3(in_planes, out_planes, stride=2, padding=1):\n",
        "    \"\"\"3x3 convolution with padding\"\"\"\n",
        "    return nn.Conv2d(in_planes, out_planes, kernel_size=3, stride=stride,\n",
        "                     padding=padding, bias=False)"
      ],
      "execution_count": 0,
      "outputs": []
    },
    {
      "cell_type": "code",
      "metadata": {
        "id": "-EKanBiM5azY",
        "colab_type": "code",
        "colab": {}
      },
      "source": [
        "mi_conv = nn.Sequential(\n",
        "    conv3x3(1, 8), # Forma (8, 14, 14)\n",
        "    nn.BatchNorm2d(8),\n",
        "    nn.ReLU(),\n",
        "    conv3x3(8, 16), # 7\n",
        "    nn.BatchNorm2d(16),\n",
        "    nn.ReLU(),\n",
        "    conv3x3(16, 32), # 4\n",
        "    nn.BatchNorm2d(32),\n",
        "    nn.ReLU(),\n",
        "    conv3x3(32, 16), # 2\n",
        "    nn.BatchNorm2d(16),\n",
        "    nn.ReLU(),\n",
        "    conv3x3(16, 10), # 1 Forma (10, 1, 1)\n",
        "    nn.BatchNorm2d(10),\n",
        "    Flatten()     # Quitar el (1,1) \n",
        ")"
      ],
      "execution_count": 0,
      "outputs": []
    },
    {
      "cell_type": "code",
      "metadata": {
        "id": "aT--JKvr6DUp",
        "colab_type": "code",
        "colab": {}
      },
      "source": [
        "learn = Learner(data, mi_conv, loss_func = nn.CrossEntropyLoss(), metrics=accuracy)"
      ],
      "execution_count": 0,
      "outputs": []
    },
    {
      "cell_type": "code",
      "metadata": {
        "id": "ggF-0ceU6Ylg",
        "colab_type": "code",
        "outputId": "3caa2bb4-304c-4eb6-ba88-e59ffd31c881",
        "colab": {
          "base_uri": "https://localhost:8080/",
          "height": 817
        }
      },
      "source": [
        "print(learn.summary())"
      ],
      "execution_count": 22,
      "outputs": [
        {
          "output_type": "stream",
          "text": [
            "Sequential\n",
            "======================================================================\n",
            "Layer (type)         Output Shape         Param #    Trainable \n",
            "======================================================================\n",
            "Conv2d               [8, 14, 14]          72         True      \n",
            "______________________________________________________________________\n",
            "BatchNorm2d          [8, 14, 14]          16         True      \n",
            "______________________________________________________________________\n",
            "ReLU                 [8, 14, 14]          0          False     \n",
            "______________________________________________________________________\n",
            "Conv2d               [16, 7, 7]           1,152      True      \n",
            "______________________________________________________________________\n",
            "BatchNorm2d          [16, 7, 7]           32         True      \n",
            "______________________________________________________________________\n",
            "ReLU                 [16, 7, 7]           0          False     \n",
            "______________________________________________________________________\n",
            "Conv2d               [32, 4, 4]           4,608      True      \n",
            "______________________________________________________________________\n",
            "BatchNorm2d          [32, 4, 4]           64         True      \n",
            "______________________________________________________________________\n",
            "ReLU                 [32, 4, 4]           0          False     \n",
            "______________________________________________________________________\n",
            "Conv2d               [16, 2, 2]           4,608      True      \n",
            "______________________________________________________________________\n",
            "BatchNorm2d          [16, 2, 2]           32         True      \n",
            "______________________________________________________________________\n",
            "ReLU                 [16, 2, 2]           0          False     \n",
            "______________________________________________________________________\n",
            "Conv2d               [10, 1, 1]           1,440      True      \n",
            "______________________________________________________________________\n",
            "BatchNorm2d          [10, 1, 1]           20         True      \n",
            "______________________________________________________________________\n",
            "Flatten              [10]                 0          False     \n",
            "______________________________________________________________________\n",
            "\n",
            "Total params: 12,044\n",
            "Total trainable params: 12,044\n",
            "Total non-trainable params: 0\n",
            "Optimized with 'torch.optim.adam.Adam', betas=(0.9, 0.99)\n",
            "Using true weight decay as discussed in https://www.fast.ai/2018/07/02/adam-weight-decay/ \n",
            "Loss function : CrossEntropyLoss\n",
            "======================================================================\n",
            "Callbacks functions applied \n",
            "\n"
          ],
          "name": "stdout"
        }
      ]
    },
    {
      "cell_type": "code",
      "metadata": {
        "id": "M9rYcVNXM5rL",
        "colab_type": "code",
        "colab": {}
      },
      "source": [
        "xb = xb.cuda()"
      ],
      "execution_count": 0,
      "outputs": []
    },
    {
      "cell_type": "code",
      "metadata": {
        "id": "IT7l9tZUM6f5",
        "colab_type": "code",
        "colab": {
          "base_uri": "https://localhost:8080/",
          "height": 35
        },
        "outputId": "f0d3f9cf-6f4a-4301-c29e-bc0dccb6f604"
      },
      "source": [
        "mi_conv(xb).shape"
      ],
      "execution_count": 25,
      "outputs": [
        {
          "output_type": "execute_result",
          "data": {
            "text/plain": [
              "torch.Size([128, 10])"
            ]
          },
          "metadata": {
            "tags": []
          },
          "execution_count": 25
        }
      ]
    },
    {
      "cell_type": "code",
      "metadata": {
        "id": "YsL9OldS6s55",
        "colab_type": "code",
        "outputId": "2c7ce85f-59f0-4fa7-bb8d-a73464571999",
        "colab": {
          "base_uri": "https://localhost:8080/",
          "height": 138
        }
      },
      "source": [
        "learn.fit_one_cycle(3, max_lr=0.1)"
      ],
      "execution_count": 13,
      "outputs": [
        {
          "output_type": "display_data",
          "data": {
            "text/html": [
              "<table border=\"1\" class=\"dataframe\">\n",
              "  <thead>\n",
              "    <tr style=\"text-align: left;\">\n",
              "      <th>epoch</th>\n",
              "      <th>train_loss</th>\n",
              "      <th>valid_loss</th>\n",
              "      <th>accuracy</th>\n",
              "      <th>time</th>\n",
              "    </tr>\n",
              "  </thead>\n",
              "  <tbody>\n",
              "    <tr>\n",
              "      <td>0</td>\n",
              "      <td>0.130372</td>\n",
              "      <td>0.139557</td>\n",
              "      <td>0.953700</td>\n",
              "      <td>00:27</td>\n",
              "    </tr>\n",
              "    <tr>\n",
              "      <td>1</td>\n",
              "      <td>0.084520</td>\n",
              "      <td>0.053534</td>\n",
              "      <td>0.983700</td>\n",
              "      <td>00:26</td>\n",
              "    </tr>\n",
              "    <tr>\n",
              "      <td>2</td>\n",
              "      <td>0.045928</td>\n",
              "      <td>0.034867</td>\n",
              "      <td>0.988400</td>\n",
              "      <td>00:26</td>\n",
              "    </tr>\n",
              "  </tbody>\n",
              "</table>"
            ],
            "text/plain": [
              "<IPython.core.display.HTML object>"
            ]
          },
          "metadata": {
            "tags": []
          }
        }
      ]
    },
    {
      "cell_type": "markdown",
      "metadata": {
        "id": "XqnAS6bLOEO9",
        "colab_type": "text"
      },
      "source": [
        "conv_layer ya tiene la secuencia de conv + batch norm + relu"
      ]
    },
    {
      "cell_type": "code",
      "metadata": {
        "id": "H2V_WUd0OUku",
        "colab_type": "code",
        "colab": {}
      },
      "source": [
        "mi_conv_2 = nn.Sequential(\n",
        "    conv3x3(1, 8),   # 14\n",
        "    conv3x3(8, 16),  # 7\n",
        "    conv3x3(16, 32), # 4\n",
        "    conv3x3(32, 16), # 2\n",
        "    conv3x3(16, 10), # 1\n",
        "    Flatten()      # remove (1,1) grid\n",
        ")"
      ],
      "execution_count": 0,
      "outputs": []
    },
    {
      "cell_type": "code",
      "metadata": {
        "id": "NmaqoVSdOci7",
        "colab_type": "code",
        "colab": {}
      },
      "source": [
        "learn = Learner(data, mi_conv_2, loss_func = nn.CrossEntropyLoss(), metrics=accuracy)"
      ],
      "execution_count": 0,
      "outputs": []
    },
    {
      "cell_type": "code",
      "metadata": {
        "id": "VcP5CTBSOepR",
        "colab_type": "code",
        "colab": {
          "base_uri": "https://localhost:8080/",
          "height": 78
        },
        "outputId": "f2eb83d5-8d5a-4246-c00b-10ac9829c5ba"
      },
      "source": [
        "learn.fit_one_cycle(10, max_lr=0.1)"
      ],
      "execution_count": 30,
      "outputs": [
        {
          "output_type": "display_data",
          "data": {
            "text/html": [
              "<table border=\"1\" class=\"dataframe\">\n",
              "  <thead>\n",
              "    <tr style=\"text-align: left;\">\n",
              "      <th>epoch</th>\n",
              "      <th>train_loss</th>\n",
              "      <th>valid_loss</th>\n",
              "      <th>accuracy</th>\n",
              "      <th>time</th>\n",
              "    </tr>\n",
              "  </thead>\n",
              "  <tbody>\n",
              "    <tr>\n",
              "      <td>0</td>\n",
              "      <td>0.683619</td>\n",
              "      <td>0.427389</td>\n",
              "      <td>0.893400</td>\n",
              "      <td>00:24</td>\n",
              "    </tr>\n",
              "  </tbody>\n",
              "</table>"
            ],
            "text/plain": [
              "<IPython.core.display.HTML object>"
            ]
          },
          "metadata": {
            "tags": []
          }
        }
      ]
    },
    {
      "cell_type": "markdown",
      "metadata": {
        "id": "sQw3QU-COihq",
        "colab_type": "text"
      },
      "source": [
        "## Resnet"
      ]
    },
    {
      "cell_type": "code",
      "metadata": {
        "id": "iPc34vjQNqro",
        "colab_type": "code",
        "colab": {}
      },
      "source": [
        "class ResBlock(nn.Module):\n",
        "    def __init__(self, nf):\n",
        "        super().__init__()\n",
        "        self.conv1 = conv_layer(nf,nf)\n",
        "        self.conv2 = conv_layer(nf,nf)\n",
        "        \n",
        "    def forward(self, x): return x + self.conv2(self.conv1(x))"
      ],
      "execution_count": 0,
      "outputs": []
    },
    {
      "cell_type": "code",
      "metadata": {
        "id": "CqfvSKKy-mhD",
        "colab_type": "code",
        "colab": {}
      },
      "source": [
        "mi_resnet = nn.Sequential(\n",
        "    conv3x3(1, 8),\n",
        "    ResBlock(8),\n",
        "    conv3x3(8, 16),\n",
        "    ResBlock(16),\n",
        "    conv3x3(16, 32),\n",
        "    ResBlock(32),\n",
        "    conv3x3(32, 16),\n",
        "    ResBlock(16),\n",
        "    conv3x3(16, 10),\n",
        "    Flatten()\n",
        ")"
      ],
      "execution_count": 0,
      "outputs": []
    },
    {
      "cell_type": "code",
      "metadata": {
        "id": "BiyOyO7zPKti",
        "colab_type": "code",
        "colab": {}
      },
      "source": [
        "learn = Learner(data, mi_resnet, loss_func = nn.CrossEntropyLoss(), metrics=accuracy)"
      ],
      "execution_count": 0,
      "outputs": []
    },
    {
      "cell_type": "code",
      "metadata": {
        "id": "im5nFmHnPLdv",
        "colab_type": "code",
        "colab": {
          "base_uri": "https://localhost:8080/",
          "height": 78
        },
        "outputId": "26cf5f98-d4bb-4016-e930-7f12037a56db"
      },
      "source": [
        "learn.fit_one_cycle(1, max_lr=0.1)"
      ],
      "execution_count": 38,
      "outputs": [
        {
          "output_type": "display_data",
          "data": {
            "text/html": [
              "<table border=\"1\" class=\"dataframe\">\n",
              "  <thead>\n",
              "    <tr style=\"text-align: left;\">\n",
              "      <th>epoch</th>\n",
              "      <th>train_loss</th>\n",
              "      <th>valid_loss</th>\n",
              "      <th>accuracy</th>\n",
              "      <th>time</th>\n",
              "    </tr>\n",
              "  </thead>\n",
              "  <tbody>\n",
              "    <tr>\n",
              "      <td>0</td>\n",
              "      <td>0.769038</td>\n",
              "      <td>0.353609</td>\n",
              "      <td>0.963600</td>\n",
              "      <td>00:30</td>\n",
              "    </tr>\n",
              "  </tbody>\n",
              "</table>"
            ],
            "text/plain": [
              "<IPython.core.display.HTML object>"
            ]
          },
          "metadata": {
            "tags": []
          }
        }
      ]
    }
  ]
}